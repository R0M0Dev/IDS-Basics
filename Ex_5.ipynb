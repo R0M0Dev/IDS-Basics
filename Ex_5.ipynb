{
 "cells": [
  {
   "cell_type": "markdown",
   "metadata": {},
   "source": [
    "# Questions\n",
    "[Note: Q1-Q6 consider the dataset (supermarket.csv) as only with ‘Gender’ category as\n",
    "‘Female’] <br>\n",
    "1. Calculate the sample mean for ‘Unit price’ column with n=500 and observe\n",
    "2. Calculate the sample mean for ‘Unit price’ column with n=1000 and observe\n",
    "3. Calculate the population mean for ‘Unit price’ column\n",
    "4. Calculate the confidence interval (CI) with sample mean for ‘Unit price’ column of\n",
    "n=500 and confidence level of 95%. Observe whether the population mean lies in CI. \n",
    "5. Change the confidence level to 99% and observe the confidence interval for the same sample mean for ‘Unit price’ column of n=500. \n",
    "6. Calculate and plot the Confidence Intervals for 25 Trials with n=500 and CI=95% for ‘Unit price’ column. Observe the results. [Note: Q7-Q8 consider the table to find the Correlation Coefficient]\n",
    "<img src='Datasets/img_1.png'>\n",
    "7. Calculate the Correlation Coefficient using Pearson for the given table\n",
    "8. Calculate the Correlation Coefficient using Spearman for the given table\n",
    "9. Calculate the Covariance Matrix for the given data and analyse it <br>\n",
    "<img src='Datasets/img_2.png'>\n",
    "10. Perform a hypothesis testing with Z-test\n",
    "A herd of 1,500 steer was fed a special high‐protein grain for a month, has the standard\n",
    "deviation of weight gain for the entire herd was 7.1 and average weight gain per steer\n",
    "for the month was 5 pounds. By feeding the herd with special high‐protein grain, it is\n",
    "claimed that the weight of the herd has increased. In order to test this claim, a random\n",
    "sample of 29 were weighed and had gained an average of 6.7 pounds. Can we support\n",
    "the claim at 5 % level?\n"
   ]
  },
  {
   "cell_type": "code",
   "execution_count": 13,
   "metadata": {},
   "outputs": [],
   "source": [
    "import pandas as pd\n",
    "import matplotlib.pyplot as plt\n",
    "import scipy.stats as stats\n",
    "df = pd.read_csv('Datasets/supermarket.csv')"
   ]
  },
  {
   "cell_type": "code",
   "execution_count": 14,
   "metadata": {},
   "outputs": [],
   "source": [
    "df = df[(df['Gender']==\"Female\")] # given in question to only use female"
   ]
  },
  {
   "cell_type": "markdown",
   "metadata": {},
   "source": [
    "1. Calculate the sample mean for ‘Unit price’ column with n=500 and observe\n"
   ]
  },
  {
   "cell_type": "code",
   "execution_count": 10,
   "metadata": {},
   "outputs": [
    {
     "data": {
      "text/plain": [
       "54.56948"
      ]
     },
     "execution_count": 10,
     "metadata": {},
     "output_type": "execute_result"
    }
   ],
   "source": [
    "n=500\n",
    "sample_data = df.sample(n)\n",
    "sample_data['Unit price'].mean()"
   ]
  },
  {
   "cell_type": "markdown",
   "metadata": {},
   "source": [
    "2. Calculate the sample mean for ‘Unit price’ column with n=1000 and observe\n"
   ]
  },
  {
   "cell_type": "code",
   "execution_count": 11,
   "metadata": {},
   "outputs": [
    {
     "data": {
      "text/plain": [
       "54.708940000000005"
      ]
     },
     "execution_count": 11,
     "metadata": {},
     "output_type": "execute_result"
    }
   ],
   "source": [
    "n=1000\n",
    "sample_data = df.sample(n)\n",
    "sample_data['Unit price'].mean()"
   ]
  },
  {
   "cell_type": "markdown",
   "metadata": {},
   "source": [
    "3. Calculate the population mean for ‘Unit price’ column"
   ]
  },
  {
   "cell_type": "code",
   "execution_count": 12,
   "metadata": {},
   "outputs": [
    {
     "data": {
      "text/plain": [
       "55.263952095808385"
      ]
     },
     "execution_count": 12,
     "metadata": {},
     "output_type": "execute_result"
    }
   ],
   "source": [
    "df['Unit price'].mean()"
   ]
  },
  {
   "cell_type": "markdown",
   "metadata": {},
   "source": [
    "4. Calculate the confidence interval (CI) with sample mean for ‘Unit price’ column of\n",
    "n=500 and confidence level of 95%. Observe whether the population mean lies in CI. "
   ]
  },
  {
   "cell_type": "code",
   "execution_count": 23,
   "metadata": {},
   "outputs": [
    {
     "name": "stdout",
     "output_type": "stream",
     "text": [
      "(53.092845216853, 57.715194783147005)\n",
      "Population Mean:  55.263952095808385\n"
     ]
    }
   ],
   "source": [
    "n = 500\n",
    "sample_data = df.sample(n)\n",
    "mean = sample_data['Unit price'].mean()\n",
    "margin_of_error = stats.norm.ppf((1+0.95)/2)*(sample_data['Unit price'].std()/(500**0.5))\n",
    "CI = (mean - margin_of_error,mean+margin_of_error)\n",
    "print(CI)\n",
    "print('Population Mean: ',df['Unit price'].mean())"
   ]
  },
  {
   "cell_type": "markdown",
   "metadata": {},
   "source": [
    "5. Change the confidence level to 99% and observe the confidence interval for the same sample mean for ‘Unit price’ column of n=500. "
   ]
  },
  {
   "cell_type": "code",
   "execution_count": 25,
   "metadata": {},
   "outputs": [
    {
     "name": "stdout",
     "output_type": "stream",
     "text": [
      "(49.95430621927024, 56.06469378072977)\n",
      "Population Mean:  55.263952095808385\n"
     ]
    }
   ],
   "source": [
    "n = 500\n",
    "sample_data = df.sample(n)\n",
    "mean = sample_data['Unit price'].mean()\n",
    "margin_of_error = stats.norm.ppf((1+0.99)/2)*(sample_data['Unit price'].std()/(500**0.5))\n",
    "CI = (mean - margin_of_error,mean+margin_of_error)\n",
    "print(CI)\n",
    "print('Population Mean: ',df['Unit price'].mean())"
   ]
  },
  {
   "cell_type": "markdown",
   "metadata": {},
   "source": [
    "6. Calculate and plot the Confidence Intervals for 25 Trials with n=500 and CI=95% for ‘Unit price’ column. Observe the results."
   ]
  },
  {
   "cell_type": "code",
   "execution_count": 26,
   "metadata": {},
   "outputs": [
    {
     "name": "stdout",
     "output_type": "stream",
     "text": [
      "Test_0:  (52.55728462916547, 58.764115370834524)\n",
      "Test_1:  (51.26617036857533, 57.50446963142468)\n",
      "Test_2:  (51.35245501903704, 57.73762498096296)\n",
      "Test_3:  (49.32020765884895, 55.571552341151055)\n",
      "Test_4:  (52.79178881816218, 59.166651181837814)\n",
      "Test_5:  (52.25189721777452, 58.564662782225476)\n",
      "Test_6:  (53.12033692530241, 59.428943074697585)\n",
      "Test_7:  (51.13277008806802, 57.533749911931984)\n",
      "Test_8:  (53.251159881237015, 59.51840011876298)\n",
      "Test_9:  (52.092036540090085, 58.204883459909915)\n",
      "Test_10:  (52.993313186104686, 59.30772681389533)\n",
      "Test_11:  (52.550808984516124, 58.77007101548388)\n",
      "Test_12:  (51.509707819382974, 57.87525218061703)\n",
      "Test_13:  (52.33990484463422, 58.487215155365774)\n",
      "Test_14:  (51.4446632417036, 57.80973675829639)\n",
      "Test_15:  (51.37027128499837, 57.79720871500163)\n",
      "Test_16:  (52.40399004281575, 58.52752995718426)\n",
      "Test_17:  (52.91481320864751, 59.20502679135249)\n",
      "Test_18:  (52.77472267178357, 59.11015732821644)\n",
      "Test_19:  (54.03322246746472, 60.115377532535284)\n",
      "Test_20:  (51.06611946732035, 57.32964053267966)\n",
      "Test_21:  (52.21548730997732, 58.554152690022676)\n",
      "Test_22:  (52.02243161673416, 58.35628838326584)\n",
      "Test_23:  (51.992206291000706, 58.135753708999296)\n",
      "Test_24:  (51.714112400797966, 58.04668759920204)\n"
     ]
    }
   ],
   "source": [
    "n = 500\n",
    "for x in range(25):\n",
    "    sample_data = df.sample(n)\n",
    "    mean = sample_data['Unit price'].mean()\n",
    "    margin_of_error = stats.norm.ppf((1+0.99)/2)*(sample_data['Unit price'].std()/(500**0.5))\n",
    "    CI = (mean - margin_of_error,mean+margin_of_error)\n",
    "    print(f\"Test_{x}: \",CI)"
   ]
  },
  {
   "cell_type": "markdown",
   "metadata": {},
   "source": [
    "<img src='Datasets/img_1.png'>"
   ]
  },
  {
   "cell_type": "code",
   "execution_count": 29,
   "metadata": {},
   "outputs": [
    {
     "data": {
      "text/html": [
       "<div>\n",
       "<style scoped>\n",
       "    .dataframe tbody tr th:only-of-type {\n",
       "        vertical-align: middle;\n",
       "    }\n",
       "\n",
       "    .dataframe tbody tr th {\n",
       "        vertical-align: top;\n",
       "    }\n",
       "\n",
       "    .dataframe thead th {\n",
       "        text-align: right;\n",
       "    }\n",
       "</style>\n",
       "<table border=\"1\" class=\"dataframe\">\n",
       "  <thead>\n",
       "    <tr style=\"text-align: right;\">\n",
       "      <th></th>\n",
       "      <th>Person</th>\n",
       "      <th>Hand</th>\n",
       "      <th>Height</th>\n",
       "    </tr>\n",
       "  </thead>\n",
       "  <tbody>\n",
       "    <tr>\n",
       "      <th>0</th>\n",
       "      <td>A</td>\n",
       "      <td>17</td>\n",
       "      <td>150</td>\n",
       "    </tr>\n",
       "    <tr>\n",
       "      <th>1</th>\n",
       "      <td>B</td>\n",
       "      <td>15</td>\n",
       "      <td>154</td>\n",
       "    </tr>\n",
       "    <tr>\n",
       "      <th>2</th>\n",
       "      <td>C</td>\n",
       "      <td>19</td>\n",
       "      <td>169</td>\n",
       "    </tr>\n",
       "    <tr>\n",
       "      <th>3</th>\n",
       "      <td>D</td>\n",
       "      <td>17</td>\n",
       "      <td>172</td>\n",
       "    </tr>\n",
       "    <tr>\n",
       "      <th>4</th>\n",
       "      <td>E</td>\n",
       "      <td>21</td>\n",
       "      <td>175</td>\n",
       "    </tr>\n",
       "  </tbody>\n",
       "</table>\n",
       "</div>"
      ],
      "text/plain": [
       "  Person  Hand  Height\n",
       "0      A    17     150\n",
       "1      B    15     154\n",
       "2      C    19     169\n",
       "3      D    17     172\n",
       "4      E    21     175"
      ]
     },
     "execution_count": 29,
     "metadata": {},
     "output_type": "execute_result"
    }
   ],
   "source": [
    "df = [\n",
    "    {\"Person\":\"A\",\"Hand\":17,\"Height\":150},\n",
    "    {\"Person\":\"B\",\"Hand\":15,\"Height\":154},\n",
    "    {\"Person\":\"C\",\"Hand\":19,\"Height\":169},\n",
    "    {\"Person\":\"D\",\"Hand\":17,\"Height\":172},\n",
    "    {\"Person\":\"E\",\"Hand\":21,\"Height\":175}\n",
    "]\n",
    "df = pd.DataFrame(df)\n",
    "df"
   ]
  },
  {
   "cell_type": "markdown",
   "metadata": {},
   "source": [
    "7. Calculate the Correlation Coefficient using Pearson for the given table"
   ]
  },
  {
   "cell_type": "code",
   "execution_count": 33,
   "metadata": {},
   "outputs": [
    {
     "name": "stdout",
     "output_type": "stream",
     "text": [
      "            Hand    Height\n",
      "Hand    1.000000  0.721315\n",
      "Height  0.721315  1.000000\n"
     ]
    }
   ],
   "source": [
    "perason_corr = df[['Hand','Height']].corr(method='pearson')\n",
    "print(perason_corr)"
   ]
  },
  {
   "cell_type": "markdown",
   "metadata": {},
   "source": [
    "8. Calculate the Correlation Coefficient using Spearman for the given table"
   ]
  },
  {
   "cell_type": "code",
   "execution_count": 34,
   "metadata": {},
   "outputs": [
    {
     "name": "stdout",
     "output_type": "stream",
     "text": [
      "            Hand    Height\n",
      "Hand    1.000000  0.666886\n",
      "Height  0.666886  1.000000\n"
     ]
    }
   ],
   "source": [
    "spearman_corr = df[['Hand','Height']].corr(method='spearman')\n",
    "print(spearman_corr)"
   ]
  },
  {
   "cell_type": "markdown",
   "metadata": {},
   "source": [
    "<img src='Datasets/img_2.png'>"
   ]
  },
  {
   "cell_type": "code",
   "execution_count": 37,
   "metadata": {},
   "outputs": [
    {
     "data": {
      "text/html": [
       "<div>\n",
       "<style scoped>\n",
       "    .dataframe tbody tr th:only-of-type {\n",
       "        vertical-align: middle;\n",
       "    }\n",
       "\n",
       "    .dataframe tbody tr th {\n",
       "        vertical-align: top;\n",
       "    }\n",
       "\n",
       "    .dataframe thead th {\n",
       "        text-align: right;\n",
       "    }\n",
       "</style>\n",
       "<table border=\"1\" class=\"dataframe\">\n",
       "  <thead>\n",
       "    <tr style=\"text-align: right;\">\n",
       "      <th></th>\n",
       "      <th>Height</th>\n",
       "      <th>Score</th>\n",
       "      <th>Age</th>\n",
       "    </tr>\n",
       "  </thead>\n",
       "  <tbody>\n",
       "    <tr>\n",
       "      <th>0</th>\n",
       "      <td>64</td>\n",
       "      <td>580</td>\n",
       "      <td>29</td>\n",
       "    </tr>\n",
       "    <tr>\n",
       "      <th>1</th>\n",
       "      <td>63</td>\n",
       "      <td>570</td>\n",
       "      <td>33</td>\n",
       "    </tr>\n",
       "    <tr>\n",
       "      <th>2</th>\n",
       "      <td>68</td>\n",
       "      <td>590</td>\n",
       "      <td>37</td>\n",
       "    </tr>\n",
       "    <tr>\n",
       "      <th>3</th>\n",
       "      <td>69</td>\n",
       "      <td>660</td>\n",
       "      <td>46</td>\n",
       "    </tr>\n",
       "    <tr>\n",
       "      <th>4</th>\n",
       "      <td>73</td>\n",
       "      <td>600</td>\n",
       "      <td>55</td>\n",
       "    </tr>\n",
       "  </tbody>\n",
       "</table>\n",
       "</div>"
      ],
      "text/plain": [
       "   Height  Score  Age\n",
       "0      64    580   29\n",
       "1      63    570   33\n",
       "2      68    590   37\n",
       "3      69    660   46\n",
       "4      73    600   55"
      ]
     },
     "execution_count": 37,
     "metadata": {},
     "output_type": "execute_result"
    }
   ],
   "source": [
    "data = {\n",
    "    \"Height\":[64,63,68,69,73],\n",
    "    \"Score\":[580,570,590,660,600],\n",
    "    \"Age\":[29,33,37,46,55]\n",
    "}\n",
    "df = pd.DataFrame(data)\n",
    "df"
   ]
  },
  {
   "cell_type": "markdown",
   "metadata": {},
   "source": [
    "9. Calculate the Covariance Matrix for the given data and analyse it <br>"
   ]
  },
  {
   "cell_type": "code",
   "execution_count": 39,
   "metadata": {},
   "outputs": [
    {
     "name": "stdout",
     "output_type": "stream",
     "text": [
      "        Height   Score    Age\n",
      "Height    16.3    72.5   40.0\n",
      "Score     72.5  1250.0  205.0\n",
      "Age       40.0   205.0  110.0\n"
     ]
    }
   ],
   "source": [
    "cov_matrix = df.cov()\n",
    "print(cov_matrix)"
   ]
  },
  {
   "cell_type": "markdown",
   "metadata": {},
   "source": [
    "10. Perform a hypothesis testing with Z-test\n",
    "A herd of 1,500 steer was fed a special high‐protein grain for a month, has the standard\n",
    "deviation of weight gain for the entire herd was 7.1 and average weight gain per steer\n",
    "for the month was 5 pounds. By feeding the herd with special high‐protein grain, it is\n",
    "claimed that the weight of the herd has increased. In order to test this claim, a random\n",
    "sample of 29 were weighed and had gained an average of 6.7 pounds. Can we support\n",
    "the claim at 5 % level?"
   ]
  },
  {
   "cell_type": "code",
   "execution_count": 40,
   "metadata": {},
   "outputs": [],
   "source": [
    "pop_std = 7.1\n",
    "pop_mean = 5\n",
    "n = 29\n",
    "sample_mean = 6.7\n",
    "cl = 0.05"
   ]
  },
  {
   "cell_type": "code",
   "execution_count": 41,
   "metadata": {},
   "outputs": [
    {
     "name": "stdout",
     "output_type": "stream",
     "text": [
      "Accepted hence the weight did gain\n"
     ]
    }
   ],
   "source": [
    "standered_error = pop_std/ n**0.5\n",
    "z_score = (sample_mean - pop_mean) / standered_error\n",
    "critical_value = stats.norm.ppf(1-cl)\n",
    "if z_score > critical_value:\n",
    "    print(\"Rejected hence the weight did not gain\")\n",
    "else:\n",
    "    print(\"Accepted hence the weight did gain\")"
   ]
  }
 ],
 "metadata": {
  "kernelspec": {
   "display_name": "base",
   "language": "python",
   "name": "python3"
  },
  "language_info": {
   "codemirror_mode": {
    "name": "ipython",
    "version": 3
   },
   "file_extension": ".py",
   "mimetype": "text/x-python",
   "name": "python",
   "nbconvert_exporter": "python",
   "pygments_lexer": "ipython3",
   "version": "3.11.5"
  }
 },
 "nbformat": 4,
 "nbformat_minor": 2
}
