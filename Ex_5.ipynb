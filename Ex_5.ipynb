{
 "cells": [
  {
   "cell_type": "markdown",
   "metadata": {},
   "source": [
    "# Questions\n",
    "1. Calculate the sample mean for ‘Unit price’ column with n=500 and observe\n",
    "2. Calculate the sample mean for ‘Unit price’ column with n=1000 and observe\n",
    "3. Calculate the population mean for ‘Unit price’ column\n",
    "4. Calculate the confidence interval (CI) with sample mean for ‘Unit price’ column of\n",
    "n=500 and confidence level of 95%. Observe whether the population mean lies in CI. \n",
    "5. Change the confidence level to 99% and observe the confidence interval for the same sample mean for ‘Unit price’ column of n=500. \n",
    "6. Calculate and plot the Confidence Intervals for 25 Trials with n=500 and CI=95% for ‘Unit price’ column. Observe the results. [Note: Q7-Q8 consider the table to find the Correlation Coefficient]\n",
    "<img src='Datasets/img_1.png'>\n",
    "7. Calculate the Correlation Coefficient using Pearson for the given table\n",
    "8. Calculate the Correlation Coefficient using Spearman for the given table\n",
    "9. Calculate the Covariance Matrix for the given data and analyse it <br>\n",
    "<img src='Datasets/img_2.png'>\n",
    "10. Perform a hypothesis testing with Z-test\n",
    "A herd of 1,500 steer was fed a special high‐protein grain for a month, has the standard\n",
    "deviation of weight gain for the entire herd was 7.1 and average weight gain per steer\n",
    "for the month was 5 pounds. By feeding the herd with special high‐protein grain, it is\n",
    "claimed that the weight of the herd has increased. In order to test this claim, a random\n",
    "sample of 29 were weighed and had gained an average of 6.7 pounds. Can we support\n",
    "the claim at 5 % level?\n"
   ]
  }
 ],
 "metadata": {
  "kernelspec": {
   "display_name": "base",
   "language": "python",
   "name": "python3"
  },
  "language_info": {
   "name": "python",
   "version": "3.11.5"
  }
 },
 "nbformat": 4,
 "nbformat_minor": 2
}
