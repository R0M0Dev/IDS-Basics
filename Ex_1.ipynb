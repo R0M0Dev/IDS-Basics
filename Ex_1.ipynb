{
 "cells": [
  {
   "cell_type": "markdown",
   "metadata": {},
   "source": [
    "# QUESTIONS\n",
    "1. Create an empty dictionary and fill with some sub_code and sub_name as pair by user\n",
    "input. Then take one sub_code as input from the user and traverse through dictionary\n",
    "to find the corresponding sub_name and display the same.\n",
    "2. Create an empty list and fill with list of words by user input. Find the list of words that\n",
    "are longer than n from a given list of words.\n",
    "Sample List : [‘the’,’quick’,’brown’,’fox’]\n",
    "n : 3\n",
    "Expected Result : quick brown\n",
    "3. Create an empty set and fill with some values by user input. Check if a given value is\n",
    "present in a set or not.\n",
    "4. Create an empty tuple and fill with some values by user input. Count the occurrence of\n",
    "a given input number in the tuple.\n",
    "Sample : (50, 10, 60, 70, 50)\n",
    "n : 50\n",
    "Expected Result : 2\n",
    "5. Create a 2D array and perform matrix subtraction using numpy.\n",
    "6. Read an .csv file and display the basic details."
   ]
  },
  {
   "cell_type": "markdown",
   "metadata": {},
   "source": [
    "*1. Create an empty dictionary and fill with some sub_code and sub_name as pair by user\n",
    "input. Then take one sub_code as input from the user and traverse through dictionary\n",
    "to find the corresponding sub_name and display the same*"
   ]
  },
  {
   "cell_type": "code",
   "execution_count": 6,
   "metadata": {},
   "outputs": [
    {
     "name": "stdout",
     "output_type": "stream",
     "text": [
      "204 belongs to Science\n"
     ]
    }
   ],
   "source": [
    "sample_dict = {}\n",
    "sample_dict['201']=\"English\"\n",
    "sample_dict['202']=\"Hindi\"\n",
    "sample_dict['203']=\"Math\"\n",
    "sample_dict['404']=\"Data Science\"\n",
    "sample_dict['204']=\"Science\"\n",
    "\n",
    "CODE_TO_FIND = '204'\n",
    "\n",
    "for x in sample_dict:\n",
    "    if x == CODE_TO_FIND:\n",
    "        print(f\"{CODE_TO_FIND} belongs to {sample_dict[CODE_TO_FIND]}\")\n"
   ]
  },
  {
   "cell_type": "markdown",
   "metadata": {},
   "source": [
    "2. Create an empty list and fill with list of words by user input. <br> Find the list of words that\n",
    "are longer than n from a given list of words.<br>\n",
    "Sample List : [‘the’,’quick’,’brown’,’fox’] <br>\n",
    "n : 3 <br>\n",
    "Expected Result : quick brown <br>"
   ]
  },
  {
   "cell_type": "code",
   "execution_count": 8,
   "metadata": {},
   "outputs": [
    {
     "name": "stdout",
     "output_type": "stream",
     "text": [
      "quick brown "
     ]
    }
   ],
   "source": [
    "Sample_List = ['the','quick','brown','fox']\n",
    "n = 3 \n",
    "for x in Sample_List:\n",
    "    if len(x) > n:\n",
    "        print(x,end=\" \")"
   ]
  },
  {
   "cell_type": "markdown",
   "metadata": {},
   "source": [
    "3. Create an empty set and fill with some values by user input. Check if a given value is\n",
    "present in a set or not."
   ]
  },
  {
   "cell_type": "code",
   "execution_count": 14,
   "metadata": {},
   "outputs": [
    {
     "name": "stdout",
     "output_type": "stream",
     "text": [
      "Found 2\n"
     ]
    }
   ],
   "source": [
    "temp_set = set()\n",
    "times = int(input(\"How many values do you want to add: \"))\n",
    "for x in range(times):\n",
    "    val = input(\"enter value\"+str(x+1)+\" :\")\n",
    "    temp_set.add(val)\n",
    "VAL_TO_FIND = 2\n",
    "if str(VAL_TO_FIND) in temp_set:\n",
    "    print(f\"Found {VAL_TO_FIND}\")"
   ]
  },
  {
   "cell_type": "markdown",
   "metadata": {},
   "source": [
    "4. Create an empty tuple and fill with some values by user input.<br> Count the occurrence of\n",
    "a given input number in the tuple.<br>\n",
    "Sample : (50, 10, 60, 70, 50)<br>\n",
    "n : 50<br>\n",
    "Expected Result : 2<br>"
   ]
  },
  {
   "cell_type": "code",
   "execution_count": 30,
   "metadata": {},
   "outputs": [
    {
     "name": "stdout",
     "output_type": "stream",
     "text": [
      "(1, 2, 50, 50, 4)\n",
      "2\n"
     ]
    }
   ],
   "source": [
    "temp_tupple = ()\n",
    "temp = list(temp_tupple)\n",
    "times = int(input(\"How many values do you want to add: \"))\n",
    "for x in range(times):\n",
    "    val = int(input(\"enter value\"+str(x+1)+\" :\"))\n",
    "    temp.append(val)\n",
    "temp_tupple = tuple(temp)\n",
    "print(temp_tupple)\n",
    "VAL_TO_FIND_T = 50\n",
    "if VAL_TO_FIND_T in temp_tupple:\n",
    "    print(temp_tupple.count(VAL_TO_FIND_T))"
   ]
  },
  {
   "cell_type": "code",
   "execution_count": 27,
   "metadata": {},
   "outputs": [
    {
     "name": "stdout",
     "output_type": "stream",
     "text": [
      "2\n"
     ]
    }
   ],
   "source": [
    "test = (1,2,3,4,5,1)\n",
    "print(test.count(1))"
   ]
  },
  {
   "cell_type": "markdown",
   "metadata": {},
   "source": [
    "5. Create a 2D array and perform matrix subtraction using numpy."
   ]
  },
  {
   "cell_type": "code",
   "execution_count": 23,
   "metadata": {},
   "outputs": [
    {
     "name": "stdout",
     "output_type": "stream",
     "text": [
      "[[0 0 0 0]\n",
      " [0 0 0 0]\n",
      " [0 0 0 1]]\n"
     ]
    }
   ],
   "source": [
    "import numpy as np\n",
    "matrix_1 = np.array([[1,2,3,4],[1,2,3,4],[1,2,3,5]])\n",
    "matrix_2 = np.array([[1,2,3,4],[1,2,3,4],[1,2,3,4]])\n",
    "print(matrix_1-matrix_2)"
   ]
  },
  {
   "cell_type": "markdown",
   "metadata": {},
   "source": [
    "6. Read an .csv file and display the basic details."
   ]
  },
  {
   "cell_type": "code",
   "execution_count": 25,
   "metadata": {},
   "outputs": [
    {
     "name": "stdout",
     "output_type": "stream",
     "text": [
      "     Unnamed: 0  Age  Sex     ChestPain  RestBP  Chol  Fbs  RestECG  MaxHR  \\\n",
      "0             1   63    1       typical     145   233    1        2    150   \n",
      "1             2   67    1  asymptomatic     160   286    0        2    108   \n",
      "2             3   67    1  asymptomatic     120   229    0        2    129   \n",
      "3             4   37    1    nonanginal     130   250    0        0    187   \n",
      "4             5   41    0    nontypical     130   204    0        2    172   \n",
      "..          ...  ...  ...           ...     ...   ...  ...      ...    ...   \n",
      "298         299   45    1       typical     110   264    0        0    132   \n",
      "299         300   68    1  asymptomatic     144   193    1        0    141   \n",
      "300         301   57    1  asymptomatic     130   131    0        0    115   \n",
      "301         302   57    0    nontypical     130   236    0        2    174   \n",
      "302         303   38    1    nonanginal     138   175    0        0    173   \n",
      "\n",
      "     ExAng  Oldpeak  Slope  Ca        Thal  AHD  \n",
      "0        0      2.3      3   0       fixed   No  \n",
      "1        1      1.5      2   3      normal  Yes  \n",
      "2        1      2.6      2   2  reversable  Yes  \n",
      "3        0      3.5      3   0      normal   No  \n",
      "4        0      1.4      1   0      normal   No  \n",
      "..     ...      ...    ...  ..         ...  ...  \n",
      "298      0      1.2      2   0  reversable  Yes  \n",
      "299      0      3.4      2   2  reversable  Yes  \n",
      "300      1      1.2      2   1  reversable  Yes  \n",
      "301      0      0.0      2   1      normal  Yes  \n",
      "302      0      0.0      1   0      normal   No  \n",
      "\n",
      "[303 rows x 15 columns]\n"
     ]
    }
   ],
   "source": [
    "import pandas as pd\n",
    "df = pd.read_csv(\"Datasets/Heart.csv\")\n",
    "print(df)"
   ]
  }
 ],
 "metadata": {
  "kernelspec": {
   "display_name": "freegpt",
   "language": "python",
   "name": "python3"
  },
  "language_info": {
   "codemirror_mode": {
    "name": "ipython",
    "version": 3
   },
   "file_extension": ".py",
   "mimetype": "text/x-python",
   "name": "python",
   "nbconvert_exporter": "python",
   "pygments_lexer": "ipython3",
   "version": "3.11.3"
  }
 },
 "nbformat": 4,
 "nbformat_minor": 2
}
